{
  "nbformat": 4,
  "nbformat_minor": 0,
  "metadata": {
    "colab": {
      "name": "ML 강의 코드",
      "provenance": [],
      "private_outputs": true,
      "collapsed_sections": [],
      "include_colab_link": true
    },
    "language_info": {
      "codemirror_mode": {
        "name": "ipython",
        "version": 3
      },
      "file_extension": ".py",
      "mimetype": "text/x-python",
      "name": "python",
      "nbconvert_exporter": "python",
      "pygments_lexer": "ipython3",
      "version": "3.6.7"
    },
    "kernelspec": {
      "name": "python3",
      "display_name": "Python 3"
    }
  },
  "cells": [
    {
      "cell_type": "markdown",
      "metadata": {
        "id": "view-in-github",
        "colab_type": "text"
      },
      "source": [
        "<a href=\"https://colab.research.google.com/github/palpitation0/ML-lecture-code/blob/master/ML_%EA%B0%95%EC%9D%98_%EC%BD%94%EB%93%9C.ipynb\" target=\"_parent\"><img src=\"https://colab.research.google.com/assets/colab-badge.svg\" alt=\"Open In Colab\"/></a>"
      ]
    },
    {
      "cell_type": "markdown",
      "metadata": {
        "id": "rHGYkQaMobND",
        "colab_type": "text"
      },
      "source": [
        "# **Multivariate Regression**"
      ]
    },
    {
      "cell_type": "code",
      "metadata": {
        "id": "m3zRdO3fWqlt",
        "colab_type": "code",
        "colab": {}
      },
      "source": [
        "import numpy as np\n",
        "np.random.seed(42)"
      ],
      "execution_count": 0,
      "outputs": []
    },
    {
      "cell_type": "code",
      "metadata": {
        "id": "bdhroPMSpiY-",
        "colab_type": "code",
        "colab": {}
      },
      "source": [
        "import scipy\n",
        "import matplotlib.pyplot as plt\n",
        "import seaborn as sns"
      ],
      "execution_count": 0,
      "outputs": []
    },
    {
      "cell_type": "code",
      "metadata": {
        "id": "toEu7ycAWz2z",
        "colab_type": "code",
        "colab": {}
      },
      "source": [
        "colors = sns.color_palette()"
      ],
      "execution_count": 0,
      "outputs": []
    },
    {
      "cell_type": "code",
      "metadata": {
        "id": "gg1sq0NwW5zG",
        "colab_type": "code",
        "colab": {}
      },
      "source": [
        "n_samples, n_features = 100, 2"
      ],
      "execution_count": 0,
      "outputs": []
    },
    {
      "cell_type": "code",
      "metadata": {
        "id": "nTFMcIGQW5vz",
        "colab_type": "code",
        "colab": {}
      },
      "source": [
        "mean = [None]*4\n",
        "Cov = [None]*4\n",
        "X = [None]*4\n",
        "mean[0] = np.array([-2.5,2.5])\n",
        "Cov[0] = np.array([[1,0],[0,1]])\n",
        "mean[1] = np.array([2.5,2.5])\n",
        "Cov[1] = np.array([[1,0.5],[0.5,1]])\n",
        "mean[2] = np.array([-2.5,-2.5])\n",
        "Cov[2] = np.array([[1,0.9],[0.9,1]])\n",
        "mean[3] = np.array([2.5,-2.5])\n",
        "Cov[3] = np.array([[1,-0.9],[-0.9,1]])\n"
      ],
      "execution_count": 0,
      "outputs": []
    },
    {
      "cell_type": "code",
      "metadata": {
        "id": "NwQxaQIKW5sL",
        "colab_type": "code",
        "colab": {}
      },
      "source": [
        "for i in range(len(mean)):\n",
        "    X[i] = np.random.multivariate_normal(mean[i],Cov[i],n_samples)"
      ],
      "execution_count": 0,
      "outputs": []
    },
    {
      "cell_type": "code",
      "metadata": {
        "id": "kCWdpTaCW5op",
        "colab_type": "code",
        "colab": {}
      },
      "source": [
        "for i in range(len(mean)):\n",
        "  plt.scatter(X[i][:,0], X[i][:,1], color=colors[i], label=\"class %i\" %i)\n",
        "  plt.scatter(mean[i][0], mean[i][1], marker=\"o\", s=200, edgecolors='w')"
      ],
      "execution_count": 0,
      "outputs": []
    },
    {
      "cell_type": "code",
      "metadata": {
        "id": "nkWNYElvW5k-",
        "colab_type": "code",
        "colab": {}
      },
      "source": [
        "plt.legend(loc='upper left')"
      ],
      "execution_count": 0,
      "outputs": []
    },
    {
      "cell_type": "code",
      "metadata": {
        "id": "c8DHVgDDW5gp",
        "colab_type": "code",
        "colab": {}
      },
      "source": [
        "Cov=np.array([[1, .9, .9, 0, 0, 0],\n",
        "               [.9, 1, .9, 0, 0, 0],\n",
        "               [.9, .9, 1, 0, 0, 0],\n",
        "               [0, 0, 0, 1, .9, 0],\n",
        "               [0, 0, 0, .9, 1, 0],\n",
        "               [0, 0, 0, 0, 0, 1]])\n",
        "\n"
      ],
      "execution_count": 0,
      "outputs": []
    },
    {
      "cell_type": "code",
      "metadata": {
        "id": "a21tj8dlW5cA",
        "colab_type": "code",
        "colab": {}
      },
      "source": [
        " Prec=np.linalg.inv(Cov)  #Precision matrix : inv(Cov)\n",
        " ones = np.ones(Cov.shape[0])\n",
        " d_euc = np.sqrt(np.dot(ones, ones))\n",
        " d_mah = np.sqrt(np.dot(np.dot(ones,Prec), ones))"
      ],
      "execution_count": 0,
      "outputs": []
    },
    {
      "cell_type": "code",
      "metadata": {
        "id": "JstaZ3hweJ5z",
        "colab_type": "code",
        "colab": {}
      },
      "source": [
        "d_euc"
      ],
      "execution_count": 0,
      "outputs": []
    },
    {
      "cell_type": "code",
      "metadata": {
        "id": "lEs6mg60W5XE",
        "colab_type": "code",
        "colab": {}
      },
      "source": [
        "d_mah"
      ],
      "execution_count": 0,
      "outputs": []
    },
    {
      "cell_type": "code",
      "metadata": {
        "id": "ZQtizm1wW5DO",
        "colab_type": "code",
        "colab": {}
      },
      "source": [
        "mean=np.array([0,0])\n",
        "Cov=np.array([[1,.8],[.8,1]])\n",
        "x1=np.array([0,2])\n",
        "x2=np.array([2,2])\n"
      ],
      "execution_count": 0,
      "outputs": []
    },
    {
      "cell_type": "code",
      "metadata": {
        "id": "ak7c7f3MftZI",
        "colab_type": "code",
        "colab": {}
      },
      "source": [
        "samples = np.random.multivariate_normal(mean, Cov, 100)\n",
        "plt.scatter(samples[:,0], samples[:,1], color=colors[0])\n",
        "plt.scatter(mean[0], mean[1], color=colors[0], s=200, label=\"mean\")\n",
        "plt.scatter(x1[0], x1[1], color=colors[1], label=\"x1\")\n",
        "plt.scatter(x2[0], x2[1], color=colors[2], label=\"x2\")"
      ],
      "execution_count": 0,
      "outputs": []
    },
    {
      "cell_type": "code",
      "metadata": {
        "id": "IqVnpTs5h8vg",
        "colab_type": "code",
        "colab": {}
      },
      "source": [
        "euc_1 = scipy.spatial.distance.euclidean(mean, x1)\n",
        "euc_2 = scipy.spatial.distance.euclidean(mean, x2)\n",
        "print(euc_1, euc_2)"
      ],
      "execution_count": 0,
      "outputs": []
    },
    {
      "cell_type": "code",
      "metadata": {
        "id": "GBCI8P0eftUb",
        "colab_type": "code",
        "colab": {}
      },
      "source": [
        "Covi = scipy.linalg.inv(Cov)\n",
        "mahal_1=scipy.spatial.distance.mahalanobis(mean, x1, Covi)\n",
        "mahal_2=scipy.spatial.distance.mahalanobis(mean, x2, Covi)\n",
        "print(mahal_1, mahal_2)"
      ],
      "execution_count": 0,
      "outputs": []
    },
    {
      "cell_type": "code",
      "metadata": {
        "id": "AALcIq2kkxOl",
        "colab_type": "code",
        "colab": {}
      },
      "source": [
        "import scipy.stats\n",
        "from scipy.stats import multivariate_normal\n",
        "from mpl_toolkits.mplot3d import Axes3D\n"
      ],
      "execution_count": 0,
      "outputs": []
    },
    {
      "cell_type": "code",
      "metadata": {
        "id": "VFSswwGEftPW",
        "colab_type": "code",
        "colab": {}
      },
      "source": [
        "def multivariate_normal_pdf(X,mean,sigma) :\n",
        "  P=X.shape[1]\n",
        "  det = np.linalg.det(sigma)\n",
        "  norm_const = 1/(((2*np.pi)**(P/2))*np.sqrt(det))\n",
        "  X_mu = X - mean\n",
        "  inv = np.linalg.inv(sigma)\n",
        "  d2 = np.sum(np.dot(X_mu, inv)*X_mu, axis=1)\n",
        "  return norm_const*np.exp(-0.5*d2)\n"
      ],
      "execution_count": 0,
      "outputs": []
    },
    {
      "cell_type": "code",
      "metadata": {
        "id": "Qsmnp-nMftKQ",
        "colab_type": "code",
        "colab": {}
      },
      "source": [
        "mean=np.array([0,0])\n",
        "sigma=np.array([[1,-0.5],[-0.5,1]])"
      ],
      "execution_count": 0,
      "outputs": []
    },
    {
      "cell_type": "code",
      "metadata": {
        "id": "vzjvN8iYftFw",
        "colab_type": "code",
        "colab": {}
      },
      "source": [
        "x,y = np.mgrid[-3:3:.1, -3:3:.1]\n",
        "X=np.stack((x.ravel(), y.ravel())).T\n",
        "norm = multivariate_normal_pdf(X, mean, sigma).reshape(x.shape)"
      ],
      "execution_count": 0,
      "outputs": []
    },
    {
      "cell_type": "code",
      "metadata": {
        "id": "BJjcQW-ymGwU",
        "colab_type": "code",
        "colab": {}
      },
      "source": [
        "norm_scpy = multivariate_normal(mean, sigma).pdf(np.stack((x, y), axis=2))\n",
        "assert np.allclose(norm, norm_scpy)\n"
      ],
      "execution_count": 0,
      "outputs": []
    },
    {
      "cell_type": "code",
      "metadata": {
        "id": "mxwQ73CXftBk",
        "colab_type": "code",
        "colab": {}
      },
      "source": [
        "fig = plt.figure(figsize=(10, 7))\n",
        "ax = fig.gca(projection='3d')\n",
        "surf = ax.plot_surface(x, y, norm, rstride=3, cstride=3, cmap=plt.cm.coolwarm, linewidth=1, antialiased=False)\n",
        "ax.set_zlim(0, 0.2)\n",
        "ax.zaxis.set_major_locator(plt.LinearLocator(10))\n",
        "ax.zaxis.set_major_formatter(plt.FormatStrFormatter('%.02f'))\n",
        "ax.set_xlabel('X')\n",
        "ax.set_ylabel('Y')\n",
        "ax.set_zlabel('p(x)')"
      ],
      "execution_count": 0,
      "outputs": []
    },
    {
      "cell_type": "code",
      "metadata": {
        "id": "0q-F54XCfs9l",
        "colab_type": "code",
        "colab": {}
      },
      "source": [
        ""
      ],
      "execution_count": 0,
      "outputs": []
    },
    {
      "cell_type": "code",
      "metadata": {
        "id": "WlIFkjuofs5e",
        "colab_type": "code",
        "colab": {}
      },
      "source": [
        ""
      ],
      "execution_count": 0,
      "outputs": []
    },
    {
      "cell_type": "code",
      "metadata": {
        "id": "NfQlOR96fsw5",
        "colab_type": "code",
        "colab": {}
      },
      "source": [
        ""
      ],
      "execution_count": 0,
      "outputs": []
    }
  ]
}