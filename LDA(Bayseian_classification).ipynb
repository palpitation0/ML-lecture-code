{
  "nbformat": 4,
  "nbformat_minor": 0,
  "metadata": {
    "colab": {
      "name": "LDA(Bayseian classification)",
      "provenance": [],
      "collapsed_sections": [],
      "include_colab_link": true
    },
    "kernelspec": {
      "name": "python3",
      "display_name": "Python 3"
    }
  },
  "cells": [
    {
      "cell_type": "markdown",
      "metadata": {
        "id": "view-in-github",
        "colab_type": "text"
      },
      "source": [
        "<a href=\"https://colab.research.google.com/github/palpitation0/ML-lecture-code/blob/master/LDA(Bayseian_classification).ipynb\" target=\"_parent\"><img src=\"https://colab.research.google.com/assets/colab-badge.svg\" alt=\"Open In Colab\"/></a>"
      ]
    },
    {
      "cell_type": "code",
      "metadata": {
        "id": "B4MI0ZjBZ8_z",
        "colab_type": "code",
        "colab": {}
      },
      "source": [
        "import numpy as np"
      ],
      "execution_count": 0,
      "outputs": []
    },
    {
      "cell_type": "code",
      "metadata": {
        "id": "oiHuOiGrZ_ig",
        "colab_type": "code",
        "colab": {}
      },
      "source": [
        "from sklearn.discriminant_analysis import LinearDiscriminantAnalysis as LDA"
      ],
      "execution_count": 0,
      "outputs": []
    },
    {
      "cell_type": "code",
      "metadata": {
        "id": "qX-aFCv3aD_X",
        "colab_type": "code",
        "colab": {}
      },
      "source": [
        "n_samples, n_features = 100, 2"
      ],
      "execution_count": 0,
      "outputs": []
    },
    {
      "cell_type": "code",
      "metadata": {
        "id": "cy_sX55MaHAj",
        "colab_type": "code",
        "colab": {}
      },
      "source": [
        "mean0, mean1 = np.array([0,0]), np.array([0,2])\n",
        "Cov = np.array([[1,.8],[.8,1]])"
      ],
      "execution_count": 0,
      "outputs": []
    },
    {
      "cell_type": "code",
      "metadata": {
        "id": "lL-WIU-TaUpS",
        "colab_type": "code",
        "colab": {}
      },
      "source": [
        "np.random.seed(42)\n",
        "X0 = np.random.multivariate_normal(mean0, Cov, n_samples)\n",
        "X1 = np.random.multivariate_normal(mean1, Cov, n_samples)\n",
        "X = np.vstack([X0,X1])\n",
        "y = np.array([0]*X0.shape[0] + [1]*X1.shape[0])"
      ],
      "execution_count": 0,
      "outputs": []
    },
    {
      "cell_type": "code",
      "metadata": {
        "id": "mYyA7PAzapa7",
        "colab_type": "code",
        "colab": {}
      },
      "source": [
        "lda = LDA()\n",
        "proj = lda.fit(X,y).transform(X)\n",
        "y_pred_lda = lda.predict(X)"
      ],
      "execution_count": 0,
      "outputs": []
    },
    {
      "cell_type": "code",
      "metadata": {
        "id": "itz1fXFla7Um",
        "colab_type": "code",
        "colab": {}
      },
      "source": [
        "errors = y_pred_lda != y"
      ],
      "execution_count": 0,
      "outputs": []
    },
    {
      "cell_type": "code",
      "metadata": {
        "id": "TcNIKrCza-w9",
        "colab_type": "code",
        "outputId": "5b17b46c-8737-4dcf-e0d0-8488a28c1351",
        "colab": {
          "base_uri": "https://localhost:8080/",
          "height": 35
        }
      },
      "source": [
        "print(\"Number of cases = %i\" %len(errors))"
      ],
      "execution_count": 0,
      "outputs": [
        {
          "output_type": "stream",
          "text": [
            "Number of cases = 200\n"
          ],
          "name": "stdout"
        }
      ]
    },
    {
      "cell_type": "code",
      "metadata": {
        "id": "ZkOhlNppbEQI",
        "colab_type": "code",
        "outputId": "0cca6287-7482-4b96-864e-f68fae624676",
        "colab": {
          "base_uri": "https://localhost:8080/",
          "height": 35
        }
      },
      "source": [
        "print(\"Nb errors = %i, error rate = %.2f\" % (errors.sum(), errors.sum()/len(y_pred_lda)))"
      ],
      "execution_count": 0,
      "outputs": [
        {
          "output_type": "stream",
          "text": [
            "Nb errors = 10, error rate = 0.05\n"
          ],
          "name": "stdout"
        }
      ]
    },
    {
      "cell_type": "code",
      "metadata": {
        "id": "jDI2LLjJbPvm",
        "colab_type": "code",
        "colab": {}
      },
      "source": [
        "import pandas as pd"
      ],
      "execution_count": 0,
      "outputs": []
    },
    {
      "cell_type": "code",
      "metadata": {
        "id": "fkAdRLwHbXMT",
        "colab_type": "code",
        "colab": {}
      },
      "source": [
        "crosstab = pd.crosstab(y, y_pred_lda, rownames=['y'], colnames=['y_pred'])"
      ],
      "execution_count": 0,
      "outputs": []
    },
    {
      "cell_type": "code",
      "metadata": {
        "id": "0krnxZC-be7A",
        "colab_type": "code",
        "outputId": "a8ce8bbb-25c2-41e8-c66c-c02f5dd566b3",
        "colab": {
          "base_uri": "https://localhost:8080/",
          "height": 90
        }
      },
      "source": [
        "print(crosstab)"
      ],
      "execution_count": 0,
      "outputs": [
        {
          "output_type": "stream",
          "text": [
            "y_pred   0   1\n",
            "y             \n",
            "0       95   5\n",
            "1        5  95\n"
          ],
          "name": "stdout"
        }
      ]
    },
    {
      "cell_type": "code",
      "metadata": {
        "id": "_JECu0f9bgZV",
        "colab_type": "code",
        "colab": {}
      },
      "source": [
        ""
      ],
      "execution_count": 0,
      "outputs": []
    }
  ]
}