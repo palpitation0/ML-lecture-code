{
  "nbformat": 4,
  "nbformat_minor": 0,
  "metadata": {
    "colab": {
      "name": "City-MDS",
      "provenance": [],
      "collapsed_sections": [],
      "include_colab_link": true
    },
    "kernelspec": {
      "name": "python3",
      "display_name": "Python 3"
    }
  },
  "cells": [
    {
      "cell_type": "markdown",
      "metadata": {
        "id": "view-in-github",
        "colab_type": "text"
      },
      "source": [
        "<a href=\"https://colab.research.google.com/github/palpitation0/ML-lecture-code/blob/master/City_MDS.ipynb\" target=\"_parent\"><img src=\"https://colab.research.google.com/assets/colab-badge.svg\" alt=\"Open In Colab\"/></a>"
      ]
    },
    {
      "cell_type": "code",
      "metadata": {
        "id": "GbV0CKRDsU0b",
        "colab_type": "code",
        "colab": {}
      },
      "source": [
        "import numpy as np\n",
        "import pandas as pd\n",
        "import matplotlib.pyplot as plt"
      ],
      "execution_count": 0,
      "outputs": []
    },
    {
      "cell_type": "code",
      "metadata": {
        "id": "G1V1jlLascS8",
        "colab_type": "code",
        "colab": {}
      },
      "source": [
        "url = 'https://raw.github.com/neurospin/pystatsml/master/datasets/eurodist.csv'\n",
        "df = pd.read_csv(url)"
      ],
      "execution_count": 0,
      "outputs": []
    },
    {
      "cell_type": "code",
      "metadata": {
        "id": "YX6dKAVWskSj",
        "colab_type": "code",
        "colab": {
          "base_uri": "https://localhost:8080/",
          "height": 126
        },
        "outputId": "e038fd99-d38f-48e5-eba1-7f3da328ae1b"
      },
      "source": [
        "print(df.iloc[:5, :5])"
      ],
      "execution_count": 3,
      "outputs": [
        {
          "output_type": "stream",
          "text": [
            "        city  Athens  Barcelona  Brussels  Calais\n",
            "0     Athens       0       3313      2963    3175\n",
            "1  Barcelona    3313          0      1318    1326\n",
            "2   Brussels    2963       1318         0     204\n",
            "3     Calais    3175       1326       204       0\n",
            "4  Cherbourg    3339       1294       583     460\n"
          ],
          "name": "stdout"
        }
      ]
    },
    {
      "cell_type": "code",
      "metadata": {
        "id": "pGzRpHufsoPd",
        "colab_type": "code",
        "colab": {}
      },
      "source": [
        "city = df[\"city\"]\n",
        "D= np.array(df.iloc[:, 1:]) # Distance matrix"
      ],
      "execution_count": 0,
      "outputs": []
    },
    {
      "cell_type": "code",
      "metadata": {
        "id": "aKx6se2nsvtd",
        "colab_type": "code",
        "colab": {}
      },
      "source": [
        "from sklearn.manifold import MDS"
      ],
      "execution_count": 0,
      "outputs": []
    },
    {
      "cell_type": "code",
      "metadata": {
        "id": "lSPWRFO0tDzl",
        "colab_type": "code",
        "colab": {}
      },
      "source": [
        "mds = MDS(dissimilarity='precomputed', n_components=2, random_state=40,\n",
        "         max_iter=3000, eps=1e-9)\n",
        "X = mds.fit_transform(D)"
      ],
      "execution_count": 0,
      "outputs": []
    },
    {
      "cell_type": "code",
      "metadata": {
        "id": "9gPth5TstDvD",
        "colab_type": "code",
        "colab": {}
      },
      "source": [
        "from sklearn import metrics"
      ],
      "execution_count": 0,
      "outputs": []
    },
    {
      "cell_type": "code",
      "metadata": {
        "id": "0-pOGOJjtDqL",
        "colab_type": "code",
        "colab": {
          "base_uri": "https://localhost:8080/",
          "height": 108
        },
        "outputId": "36b08532-daa2-46d0-f276-fd023762ad3a"
      },
      "source": [
        "Deuclidean = metrics.pairwise.pairwise_distances(X, metric='euclidean')\n",
        "print(np.round(Deuclidean[:5,:5]))"
      ],
      "execution_count": 8,
      "outputs": [
        {
          "output_type": "stream",
          "text": [
            "[[   0. 3116. 2994. 3181. 3428.]\n",
            " [3116.    0. 1317. 1289. 1128.]\n",
            " [2994. 1317.    0.  198.  538.]\n",
            " [3181. 1289.  198.    0.  358.]\n",
            " [3428. 1128.  538.  358.    0.]]\n"
          ],
          "name": "stdout"
        }
      ]
    },
    {
      "cell_type": "code",
      "metadata": {
        "id": "NQ4Gh1rvtDmj",
        "colab_type": "code",
        "colab": {}
      },
      "source": [
        "theta = 80*np.pi/180\n",
        "rot = np.array([[np.cos(theta), -np.sin(theta)],[np.sin(theta), np.cos(theta)]])\n",
        "Xr = np.dot(X,rot)"
      ],
      "execution_count": 0,
      "outputs": []
    },
    {
      "cell_type": "code",
      "metadata": {
        "id": "AFue3JO3tvDt",
        "colab_type": "code",
        "colab": {}
      },
      "source": [
        "Xr[:,0] *= -1"
      ],
      "execution_count": 0,
      "outputs": []
    },
    {
      "cell_type": "code",
      "metadata": {
        "id": "nHHyPwZat5VM",
        "colab_type": "code",
        "colab": {
          "base_uri": "https://localhost:8080/",
          "height": 287
        },
        "outputId": "ddea575f-f106-4c87-874b-df72c4a7fd8d"
      },
      "source": [
        "plt.scatter(Xr[:,0], Xr[:,1])\n",
        "for i in range(len(city)):\n",
        "  plt.text(Xr[i,0], Xr[i,1], city[i])\n",
        "plt.axis('equal')"
      ],
      "execution_count": 19,
      "outputs": [
        {
          "output_type": "execute_result",
          "data": {
            "text/plain": [
              "(-1894.101774437739, 2914.3652937179486, -1712.98854632019, 2145.452245388456)"
            ]
          },
          "metadata": {
            "tags": []
          },
          "execution_count": 19
        },
        {
          "output_type": "display_data",
          "data": {
            "image/png": "[encoded data removed]",
            "text/plain": [
              "<Figure size 432x288 with 1 Axes>"
            ]
          },
          "metadata": {
            "tags": []
          }
        }
      ]
    },
    {
      "cell_type": "code",
      "metadata": {
        "id": "-MjSyKE4t5QQ",
        "colab_type": "code",
        "colab": {}
      },
      "source": [
        "k_range = range(1, min(5, D.shape[0]-1))\n",
        "stress = [MDS(dissimilarity='precomputed', n_components=k, random_state=42,\n",
        "              max_iter=300, eps=1e-9).fit(D).stress_\n",
        "         for k in k_range]"
      ],
      "execution_count": 0,
      "outputs": []
    },
    {
      "cell_type": "code",
      "metadata": {
        "id": "ENOTbAgwt5MP",
        "colab_type": "code",
        "colab": {
          "base_uri": "https://localhost:8080/",
          "height": 35
        },
        "outputId": "f069ff63-7caa-4c86-ac07-81360eb7864a"
      },
      "source": [
        "print(stress)"
      ],
      "execution_count": 36,
      "outputs": [
        {
          "output_type": "stream",
          "text": [
            "[48644495.28571428, 3356497.365752386, 2858455.4958879626, 2756310.637628011]\n"
          ],
          "name": "stdout"
        }
      ]
    },
    {
      "cell_type": "code",
      "metadata": {
        "id": "hsBKiILSt5IT",
        "colab_type": "code",
        "colab": {
          "base_uri": "https://localhost:8080/",
          "height": 308
        },
        "outputId": "a631c614-11ff-4e21-d80c-6d1ba4872c21"
      },
      "source": [
        "plt.plot(k_range, stress)\n",
        "plt.xlabel(\"k\")\n",
        "plt.ylabel(\"stress\")"
      ],
      "execution_count": 37,
      "outputs": [
        {
          "output_type": "execute_result",
          "data": {
            "text/plain": [
              "Text(0, 0.5, 'stress')"
            ]
          },
          "metadata": {
            "tags": []
          },
          "execution_count": 37
        },
        {
          "output_type": "display_data",
          "data": {
            "image/png": "[encoded data removed]",
            "text/plain": [
              "<Figure size 432x288 with 1 Axes>"
            ]
          },
          "metadata": {
            "tags": []
          }
        }
      ]
    },
    {
      "cell_type": "code",
      "metadata": {
        "id": "tPzazz_qt5DV",
        "colab_type": "code",
        "colab": {}
      },
      "source": [
        ""
      ],
      "execution_count": 0,
      "outputs": []
    },
    {
      "cell_type": "code",
      "metadata": {
        "id": "bV7-9bFMt4_S",
        "colab_type": "code",
        "colab": {}
      },
      "source": [
        ""
      ],
      "execution_count": 0,
      "outputs": []
    }
  ]
}