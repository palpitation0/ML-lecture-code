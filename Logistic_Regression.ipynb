{
  "nbformat": 4,
  "nbformat_minor": 0,
  "metadata": {
    "colab": {
      "name": "Logistic Regression",
      "provenance": [],
      "collapsed_sections": [],
      "include_colab_link": true
    },
    "kernelspec": {
      "name": "python3",
      "display_name": "Python 3"
    }
  },
  "cells": [
    {
      "cell_type": "markdown",
      "metadata": {
        "id": "view-in-github",
        "colab_type": "text"
      },
      "source": [
        "<a href=\"https://colab.research.google.com/github/palpitation0/ML-lecture-code/blob/master/Logistic_Regression.ipynb\" target=\"_parent\"><img src=\"https://colab.research.google.com/assets/colab-badge.svg\" alt=\"Open In Colab\"/></a>"
      ]
    },
    {
      "cell_type": "code",
      "metadata": {
        "id": "QUvtLZaimQFl",
        "colab_type": "code",
        "colab": {}
      },
      "source": [
        "import numpy as np\n",
        "from sklearn import linear_model"
      ],
      "execution_count": 0,
      "outputs": []
    },
    {
      "cell_type": "code",
      "metadata": {
        "id": "Wzrg-0UvmTr2",
        "colab_type": "code",
        "colab": {}
      },
      "source": [
        "n_samples, n_features = 100,2\n",
        "mean0, mean1 = np.array([0,0]), np.array([0,2])\n",
        "Cov = np.array([[1,.8],[.8,1]])"
      ],
      "execution_count": 0,
      "outputs": []
    },
    {
      "cell_type": "code",
      "metadata": {
        "id": "3raW8RRPmfUC",
        "colab_type": "code",
        "colab": {}
      },
      "source": [
        "np.random.seed(42)\n",
        "X0 = np.random.multivariate_normal(mean0, Cov, n_samples)\n",
        "X1 = np.random.multivariate_normal(mean1, Cov, n_samples)\n",
        "X = np.vstack([X0,X1])\n",
        "y = np.array([0]*X0.shape[0] + [1]*X1.shape[0])"
      ],
      "execution_count": 0,
      "outputs": []
    },
    {
      "cell_type": "code",
      "metadata": {
        "id": "oGzwR58Km1ra",
        "colab_type": "code",
        "outputId": "ec0a60af-716e-4de0-a4b4-cf61d2af99a8",
        "colab": {
          "base_uri": "https://localhost:8080/",
          "height": 74
        }
      },
      "source": [
        "logreg = linear_model.LogisticRegression(C=1e8)\n",
        "logreg.fit(X,y)\n",
        "y_pred_logreg = logreg.predict(X)"
      ],
      "execution_count": 0,
      "outputs": [
        {
          "output_type": "stream",
          "text": [
            "/usr/local/lib/python3.6/dist-packages/sklearn/linear_model/logistic.py:432: FutureWarning: Default solver will be changed to 'lbfgs' in 0.22. Specify a solver to silence this warning.\n",
            "  FutureWarning)\n"
          ],
          "name": "stderr"
        }
      ]
    },
    {
      "cell_type": "code",
      "metadata": {
        "id": "1pD0OA4Cm__2",
        "colab_type": "code",
        "outputId": "cfdf09b2-4a77-4605-b36e-030cad8e3268",
        "colab": {
          "base_uri": "https://localhost:8080/",
          "height": 35
        }
      },
      "source": [
        "errors = y_pred_logreg != y\n",
        "print(\"Nb errors = %i, error rate = %.2f\" % (errors.sum(), errors.sum()/len(y_pred_logreg)))"
      ],
      "execution_count": 0,
      "outputs": [
        {
          "output_type": "stream",
          "text": [
            "Nb errors = 10, error rate = 0.05\n"
          ],
          "name": "stdout"
        }
      ]
    },
    {
      "cell_type": "code",
      "metadata": {
        "id": "tE8Ko21cnUuw",
        "colab_type": "code",
        "outputId": "c90f59a1-e760-4bae-8bb2-bae676812c0e",
        "colab": {
          "base_uri": "https://localhost:8080/",
          "height": 35
        }
      },
      "source": [
        "print(logreg.coef_)"
      ],
      "execution_count": 0,
      "outputs": [
        {
          "output_type": "stream",
          "text": [
            "[[-5.15162649  5.57299286]]\n"
          ],
          "name": "stdout"
        }
      ]
    },
    {
      "cell_type": "code",
      "metadata": {
        "id": "UTRuwYiRnXWL",
        "colab_type": "code",
        "colab": {}
      },
      "source": [
        "import pandas as pd\n",
        "crosstab = pd.crosstab(y, y_pred_logreg, rownames=['y'], colnames=['y_pred'])"
      ],
      "execution_count": 0,
      "outputs": []
    },
    {
      "cell_type": "code",
      "metadata": {
        "id": "_R65xd4BnhMa",
        "colab_type": "code",
        "outputId": "29bc562e-04d2-440f-ff31-a4e569b14ad2",
        "colab": {
          "base_uri": "https://localhost:8080/",
          "height": 90
        }
      },
      "source": [
        "print(crosstab)"
      ],
      "execution_count": 0,
      "outputs": [
        {
          "output_type": "stream",
          "text": [
            "y_pred   0   1\n",
            "y             \n",
            "0       95   5\n",
            "1        5  95\n"
          ],
          "name": "stdout"
        }
      ]
    },
    {
      "cell_type": "code",
      "metadata": {
        "id": "YvTy5tBlnkvB",
        "colab_type": "code",
        "colab": {}
      },
      "source": [
        ""
      ],
      "execution_count": 0,
      "outputs": []
    }
  ]
}