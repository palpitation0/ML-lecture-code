{
  "nbformat": 4,
  "nbformat_minor": 0,
  "metadata": {
    "colab": {
      "name": "PCA",
      "provenance": [],
      "collapsed_sections": [],
      "include_colab_link": true
    },
    "kernelspec": {
      "name": "python3",
      "display_name": "Python 3"
    }
  },
  "cells": [
    {
      "cell_type": "markdown",
      "metadata": {
        "id": "view-in-github",
        "colab_type": "text"
      },
      "source": [
        "<a href=\"https://colab.research.google.com/github/palpitation0/ML-lecture-code/blob/master/PCA.ipynb\" target=\"_parent\"><img src=\"https://colab.research.google.com/assets/colab-badge.svg\" alt=\"Open In Colab\"/></a>"
      ]
    },
    {
      "cell_type": "code",
      "metadata": {
        "id": "rYpy__LVYOvo",
        "colab_type": "code",
        "colab": {}
      },
      "source": [
        "import numpy as np\n",
        "from sklearn.decomposition import PCA\n",
        "import matplotlib.pyplot as plt"
      ],
      "execution_count": 0,
      "outputs": []
    },
    {
      "cell_type": "code",
      "metadata": {
        "id": "yxaUeIxeYWdV",
        "colab_type": "code",
        "colab": {}
      },
      "source": [
        "np.random.seed(42)\n",
        "n_samples = 100\n",
        "experience = np.random.normal(size=n_samples)\n",
        "salary = 1500 + experience + np.random.normal(size=n_samples, scale=0.5)\n",
        " # scale 값 = 표준편차\n",
        "X = np.column_stack([experience, salary])\n",
        " # column_stack ; R 에서는 cbind 함수에 해당"
      ],
      "execution_count": 0,
      "outputs": []
    },
    {
      "cell_type": "code",
      "metadata": {
        "id": "hMrxA2dzYpab",
        "colab_type": "code",
        "colab": {
          "base_uri": "https://localhost:8080/",
          "height": 54
        },
        "outputId": "62a47b2c-ff37-4068-9e7d-6af575c97cd1"
      },
      "source": [
        "pca = PCA(n_components=2)\n",
        "pca.fit(X)"
      ],
      "execution_count": 3,
      "outputs": [
        {
          "output_type": "execute_result",
          "data": {
            "text/plain": [
              "PCA(copy=True, iterated_power='auto', n_components=2, random_state=None,\n",
              "    svd_solver='auto', tol=0.0, whiten=False)"
            ]
          },
          "metadata": {
            "tags": []
          },
          "execution_count": 3
        }
      ]
    },
    {
      "cell_type": "code",
      "metadata": {
        "id": "1lgZ5WFBYpEm",
        "colab_type": "code",
        "colab": {
          "base_uri": "https://localhost:8080/",
          "height": 35
        },
        "outputId": "10f0eed9-102e-4247-d361-1569c09e1d88"
      },
      "source": [
        "print(pca.explained_variance_ratio_)"
      ],
      "execution_count": 4,
      "outputs": [
        {
          "output_type": "stream",
          "text": [
            "[0.93646607 0.06353393]\n"
          ],
          "name": "stdout"
        }
      ]
    },
    {
      "cell_type": "code",
      "metadata": {
        "id": "9iltrk58ZB5H",
        "colab_type": "code",
        "colab": {
          "base_uri": "https://localhost:8080/",
          "height": 287
        },
        "outputId": "5d67d47d-4c62-4bd4-e7a4-705c2c6ae64e"
      },
      "source": [
        "PC = pca.transform(X)\n",
        "plt.subplot(121)\n",
        "plt.scatter(X[:,0], X[:,1])\n",
        "plt.subplot(122)\n",
        "plt.scatter(PC[:,0], PC[:,1])"
      ],
      "execution_count": 6,
      "outputs": [
        {
          "output_type": "execute_result",
          "data": {
            "text/plain": [
              "<matplotlib.collections.PathCollection at 0x7fb31c2ee828>"
            ]
          },
          "metadata": {
            "tags": []
          },
          "execution_count": 6
        },
        {
          "output_type": "display_data",
          "data": {
            "image/png": "[encoded data removed]",
            "text/plain": [
              "<Figure size 432x288 with 2 Axes>"
            ]
          },
          "metadata": {
            "tags": []
          }
        }
      ]
    },
    {
      "cell_type": "code",
      "metadata": {
        "id": "Sg1VKjDqZwPA",
        "colab_type": "code",
        "colab": {
          "base_uri": "https://localhost:8080/",
          "height": 297
        },
        "outputId": "38361877-8c16-46bf-ff32-c379ae8903e2"
      },
      "source": [
        "PC = pca.transform(X)\n",
        "plt.subplot(121)\n",
        "plt.scatter(X[:,0], X[:,1])\n",
        "plt.subplot(122)\n",
        "plt.scatter(PC[:,0], PC[:,1])\n",
        "\n",
        "plt.xlabel(\"PC1(var=%.2f)\" % pca.explained_variance_ratio_[0])\n",
        "plt.ylabel(\"PC2(var=%.2f)\" % pca.explained_variance_ratio_[1])\n",
        "plt.axis('equal')\n",
        "plt.tight_layout()"
      ],
      "execution_count": 9,
      "outputs": [
        {
          "output_type": "display_data",
          "data": {
            "image/png": "[encoded data removed]",
            "text/plain": [
              "<Figure size 432x288 with 2 Axes>"
            ]
          },
          "metadata": {
            "tags": []
          }
        }
      ]
    },
    {
      "cell_type": "markdown",
      "metadata": {
        "id": "4LEXVNlyavyB",
        "colab_type": "text"
      },
      "source": [
        "# Heptathlon 자료"
      ]
    },
    {
      "cell_type": "code",
      "metadata": {
        "id": "KcaYm8d8atYx",
        "colab_type": "code",
        "colab": {}
      },
      "source": [
        "import numpy as np\n",
        "import pandas as pd\n",
        "from sklearn.decomposition import PCA"
      ],
      "execution_count": 0,
      "outputs": []
    },
    {
      "cell_type": "code",
      "metadata": {
        "id": "mq6ApBbBa8uK",
        "colab_type": "code",
        "colab": {}
      },
      "source": [
        "hep = pd.read_csv(\"http://www-eio.upc.edu/~pau/cms/rdata/csv/HSAUR/heptathlon.csv\")"
      ],
      "execution_count": 0,
      "outputs": []
    },
    {
      "cell_type": "code",
      "metadata": {
        "id": "j0JCiwhjbZB2",
        "colab_type": "code",
        "colab": {}
      },
      "source": [
        "hep.hurdles = np.max(hep.hurdles) - hep.hurdles\n",
        "hep.run200m = np.max(hep.run200m) - hep.run200m\n",
        "hep.run800m = np.max(hep.run800m) - hep.run800m"
      ],
      "execution_count": 0,
      "outputs": []
    },
    {
      "cell_type": "code",
      "metadata": {
        "id": "uokpztcfbnH-",
        "colab_type": "code",
        "colab": {
          "base_uri": "https://localhost:8080/",
          "height": 287
        },
        "outputId": "ebf23d29-6eae-4c2c-f6c1-f886aff990c9"
      },
      "source": [
        "hep.head()"
      ],
      "execution_count": 13,
      "outputs": [
        {
          "output_type": "execute_result",
          "data": {
            "text/html": [
              "<div>\n",
              "<style scoped>\n",
              "    .dataframe tbody tr th:only-of-type {\n",
              "        vertical-align: middle;\n",
              "    }\n",
              "\n",
              "    .dataframe tbody tr th {\n",
              "        vertical-align: top;\n",
              "    }\n",
              "\n",
              "    .dataframe thead th {\n",
              "        text-align: right;\n",
              "    }\n",
              "</style>\n",
              "<table border=\"1\" class=\"dataframe\">\n",
              "  <thead>\n",
              "    <tr style=\"text-align: right;\">\n",
              "      <th></th>\n",
              "      <th>Unnamed: 0</th>\n",
              "      <th>hurdles</th>\n",
              "      <th>highjump</th>\n",
              "      <th>shot</th>\n",
              "      <th>run200m</th>\n",
              "      <th>longjump</th>\n",
              "      <th>javelin</th>\n",
              "      <th>run800m</th>\n",
              "      <th>score</th>\n",
              "    </tr>\n",
              "  </thead>\n",
              "  <tbody>\n",
              "    <tr>\n",
              "      <th>0</th>\n",
              "      <td>Joyner-Kersee (USA)</td>\n",
              "      <td>3.73</td>\n",
              "      <td>1.86</td>\n",
              "      <td>15.80</td>\n",
              "      <td>4.05</td>\n",
              "      <td>7.27</td>\n",
              "      <td>45.66</td>\n",
              "      <td>34.92</td>\n",
              "      <td>7291</td>\n",
              "    </tr>\n",
              "    <tr>\n",
              "      <th>1</th>\n",
              "      <td>John (GDR)</td>\n",
              "      <td>3.57</td>\n",
              "      <td>1.80</td>\n",
              "      <td>16.23</td>\n",
              "      <td>2.96</td>\n",
              "      <td>6.71</td>\n",
              "      <td>42.56</td>\n",
              "      <td>37.31</td>\n",
              "      <td>6897</td>\n",
              "    </tr>\n",
              "    <tr>\n",
              "      <th>2</th>\n",
              "      <td>Behmer (GDR)</td>\n",
              "      <td>3.22</td>\n",
              "      <td>1.83</td>\n",
              "      <td>14.20</td>\n",
              "      <td>3.51</td>\n",
              "      <td>6.68</td>\n",
              "      <td>44.54</td>\n",
              "      <td>39.23</td>\n",
              "      <td>6858</td>\n",
              "    </tr>\n",
              "    <tr>\n",
              "      <th>3</th>\n",
              "      <td>Sablovskaite (URS)</td>\n",
              "      <td>2.81</td>\n",
              "      <td>1.80</td>\n",
              "      <td>15.23</td>\n",
              "      <td>2.69</td>\n",
              "      <td>6.25</td>\n",
              "      <td>42.78</td>\n",
              "      <td>31.19</td>\n",
              "      <td>6540</td>\n",
              "    </tr>\n",
              "    <tr>\n",
              "      <th>4</th>\n",
              "      <td>Choubenkova (URS)</td>\n",
              "      <td>2.91</td>\n",
              "      <td>1.74</td>\n",
              "      <td>14.76</td>\n",
              "      <td>2.68</td>\n",
              "      <td>6.32</td>\n",
              "      <td>47.46</td>\n",
              "      <td>35.53</td>\n",
              "      <td>6540</td>\n",
              "    </tr>\n",
              "  </tbody>\n",
              "</table>\n",
              "</div>"
            ],
            "text/plain": [
              "            Unnamed: 0  hurdles  highjump  ...  javelin  run800m  score\n",
              "0  Joyner-Kersee (USA)     3.73      1.86  ...    45.66    34.92   7291\n",
              "1           John (GDR)     3.57      1.80  ...    42.56    37.31   6897\n",
              "2         Behmer (GDR)     3.22      1.83  ...    44.54    39.23   6858\n",
              "3   Sablovskaite (URS)     2.81      1.80  ...    42.78    31.19   6540\n",
              "4    Choubenkova (URS)     2.91      1.74  ...    47.46    35.53   6540\n",
              "\n",
              "[5 rows x 9 columns]"
            ]
          },
          "metadata": {
            "tags": []
          },
          "execution_count": 13
        }
      ]
    },
    {
      "cell_type": "code",
      "metadata": {
        "id": "kmC70GOPboQu",
        "colab_type": "code",
        "colab": {
          "base_uri": "https://localhost:8080/",
          "height": 798
        },
        "outputId": "9986486e-4f08-4c4e-d0f1-982d6259e11b"
      },
      "source": [
        "hep_cols = ['hurdles', 'highjump', 'shot', 'run200m', 'longjump', 'javelin', 'run800m']\n",
        "hep[hep_cols]"
      ],
      "execution_count": 15,
      "outputs": [
        {
          "output_type": "execute_result",
          "data": {
            "text/html": [
              "<div>\n",
              "<style scoped>\n",
              "    .dataframe tbody tr th:only-of-type {\n",
              "        vertical-align: middle;\n",
              "    }\n",
              "\n",
              "    .dataframe tbody tr th {\n",
              "        vertical-align: top;\n",
              "    }\n",
              "\n",
              "    .dataframe thead th {\n",
              "        text-align: right;\n",
              "    }\n",
              "</style>\n",
              "<table border=\"1\" class=\"dataframe\">\n",
              "  <thead>\n",
              "    <tr style=\"text-align: right;\">\n",
              "      <th></th>\n",
              "      <th>hurdles</th>\n",
              "      <th>highjump</th>\n",
              "      <th>shot</th>\n",
              "      <th>run200m</th>\n",
              "      <th>longjump</th>\n",
              "      <th>javelin</th>\n",
              "      <th>run800m</th>\n",
              "    </tr>\n",
              "  </thead>\n",
              "  <tbody>\n",
              "    <tr>\n",
              "      <th>0</th>\n",
              "      <td>3.73</td>\n",
              "      <td>1.86</td>\n",
              "      <td>15.80</td>\n",
              "      <td>4.05</td>\n",
              "      <td>7.27</td>\n",
              "      <td>45.66</td>\n",
              "      <td>34.92</td>\n",
              "    </tr>\n",
              "    <tr>\n",
              "      <th>1</th>\n",
              "      <td>3.57</td>\n",
              "      <td>1.80</td>\n",
              "      <td>16.23</td>\n",
              "      <td>2.96</td>\n",
              "      <td>6.71</td>\n",
              "      <td>42.56</td>\n",
              "      <td>37.31</td>\n",
              "    </tr>\n",
              "    <tr>\n",
              "      <th>2</th>\n",
              "      <td>3.22</td>\n",
              "      <td>1.83</td>\n",
              "      <td>14.20</td>\n",
              "      <td>3.51</td>\n",
              "      <td>6.68</td>\n",
              "      <td>44.54</td>\n",
              "      <td>39.23</td>\n",
              "    </tr>\n",
              "    <tr>\n",
              "      <th>3</th>\n",
              "      <td>2.81</td>\n",
              "      <td>1.80</td>\n",
              "      <td>15.23</td>\n",
              "      <td>2.69</td>\n",
              "      <td>6.25</td>\n",
              "      <td>42.78</td>\n",
              "      <td>31.19</td>\n",
              "    </tr>\n",
              "    <tr>\n",
              "      <th>4</th>\n",
              "      <td>2.91</td>\n",
              "      <td>1.74</td>\n",
              "      <td>14.76</td>\n",
              "      <td>2.68</td>\n",
              "      <td>6.32</td>\n",
              "      <td>47.46</td>\n",
              "      <td>35.53</td>\n",
              "    </tr>\n",
              "    <tr>\n",
              "      <th>5</th>\n",
              "      <td>2.67</td>\n",
              "      <td>1.83</td>\n",
              "      <td>13.50</td>\n",
              "      <td>1.96</td>\n",
              "      <td>6.33</td>\n",
              "      <td>42.82</td>\n",
              "      <td>37.64</td>\n",
              "    </tr>\n",
              "    <tr>\n",
              "      <th>6</th>\n",
              "      <td>3.04</td>\n",
              "      <td>1.80</td>\n",
              "      <td>12.88</td>\n",
              "      <td>3.02</td>\n",
              "      <td>6.37</td>\n",
              "      <td>40.28</td>\n",
              "      <td>30.89</td>\n",
              "    </tr>\n",
              "    <tr>\n",
              "      <th>7</th>\n",
              "      <td>2.87</td>\n",
              "      <td>1.80</td>\n",
              "      <td>14.13</td>\n",
              "      <td>2.13</td>\n",
              "      <td>6.47</td>\n",
              "      <td>38.00</td>\n",
              "      <td>29.78</td>\n",
              "    </tr>\n",
              "    <tr>\n",
              "      <th>8</th>\n",
              "      <td>2.79</td>\n",
              "      <td>1.83</td>\n",
              "      <td>14.28</td>\n",
              "      <td>1.75</td>\n",
              "      <td>6.11</td>\n",
              "      <td>42.20</td>\n",
              "      <td>27.38</td>\n",
              "    </tr>\n",
              "    <tr>\n",
              "      <th>9</th>\n",
              "      <td>3.17</td>\n",
              "      <td>1.77</td>\n",
              "      <td>12.62</td>\n",
              "      <td>3.02</td>\n",
              "      <td>6.28</td>\n",
              "      <td>39.06</td>\n",
              "      <td>28.69</td>\n",
              "    </tr>\n",
              "    <tr>\n",
              "      <th>10</th>\n",
              "      <td>2.67</td>\n",
              "      <td>1.86</td>\n",
              "      <td>13.01</td>\n",
              "      <td>1.58</td>\n",
              "      <td>6.34</td>\n",
              "      <td>37.86</td>\n",
              "      <td>31.94</td>\n",
              "    </tr>\n",
              "    <tr>\n",
              "      <th>11</th>\n",
              "      <td>3.18</td>\n",
              "      <td>1.80</td>\n",
              "      <td>12.88</td>\n",
              "      <td>3.02</td>\n",
              "      <td>6.37</td>\n",
              "      <td>40.28</td>\n",
              "      <td>30.89</td>\n",
              "    </tr>\n",
              "    <tr>\n",
              "      <th>12</th>\n",
              "      <td>2.57</td>\n",
              "      <td>1.86</td>\n",
              "      <td>11.58</td>\n",
              "      <td>1.74</td>\n",
              "      <td>6.05</td>\n",
              "      <td>47.50</td>\n",
              "      <td>28.50</td>\n",
              "    </tr>\n",
              "    <tr>\n",
              "      <th>13</th>\n",
              "      <td>2.71</td>\n",
              "      <td>1.83</td>\n",
              "      <td>13.16</td>\n",
              "      <td>1.83</td>\n",
              "      <td>6.12</td>\n",
              "      <td>44.58</td>\n",
              "      <td>20.61</td>\n",
              "    </tr>\n",
              "    <tr>\n",
              "      <th>14</th>\n",
              "      <td>2.63</td>\n",
              "      <td>1.80</td>\n",
              "      <td>12.32</td>\n",
              "      <td>2.00</td>\n",
              "      <td>6.08</td>\n",
              "      <td>45.44</td>\n",
              "      <td>26.37</td>\n",
              "    </tr>\n",
              "    <tr>\n",
              "      <th>15</th>\n",
              "      <td>2.49</td>\n",
              "      <td>1.86</td>\n",
              "      <td>14.21</td>\n",
              "      <td>1.61</td>\n",
              "      <td>6.40</td>\n",
              "      <td>38.60</td>\n",
              "      <td>16.76</td>\n",
              "    </tr>\n",
              "    <tr>\n",
              "      <th>16</th>\n",
              "      <td>2.95</td>\n",
              "      <td>1.80</td>\n",
              "      <td>12.75</td>\n",
              "      <td>1.14</td>\n",
              "      <td>6.34</td>\n",
              "      <td>35.76</td>\n",
              "      <td>24.95</td>\n",
              "    </tr>\n",
              "    <tr>\n",
              "      <th>17</th>\n",
              "      <td>2.35</td>\n",
              "      <td>1.83</td>\n",
              "      <td>12.69</td>\n",
              "      <td>1.78</td>\n",
              "      <td>6.13</td>\n",
              "      <td>44.34</td>\n",
              "      <td>17.00</td>\n",
              "    </tr>\n",
              "    <tr>\n",
              "      <th>18</th>\n",
              "      <td>2.03</td>\n",
              "      <td>1.71</td>\n",
              "      <td>12.68</td>\n",
              "      <td>1.69</td>\n",
              "      <td>6.10</td>\n",
              "      <td>37.76</td>\n",
              "      <td>25.41</td>\n",
              "    </tr>\n",
              "    <tr>\n",
              "      <th>19</th>\n",
              "      <td>2.38</td>\n",
              "      <td>1.77</td>\n",
              "      <td>11.81</td>\n",
              "      <td>1.00</td>\n",
              "      <td>5.99</td>\n",
              "      <td>35.68</td>\n",
              "      <td>29.53</td>\n",
              "    </tr>\n",
              "    <tr>\n",
              "      <th>20</th>\n",
              "      <td>2.11</td>\n",
              "      <td>1.77</td>\n",
              "      <td>11.66</td>\n",
              "      <td>0.92</td>\n",
              "      <td>5.75</td>\n",
              "      <td>39.48</td>\n",
              "      <td>30.08</td>\n",
              "    </tr>\n",
              "    <tr>\n",
              "      <th>21</th>\n",
              "      <td>2.19</td>\n",
              "      <td>1.71</td>\n",
              "      <td>12.95</td>\n",
              "      <td>1.11</td>\n",
              "      <td>5.50</td>\n",
              "      <td>39.64</td>\n",
              "      <td>19.41</td>\n",
              "    </tr>\n",
              "    <tr>\n",
              "      <th>22</th>\n",
              "      <td>1.57</td>\n",
              "      <td>1.68</td>\n",
              "      <td>10.00</td>\n",
              "      <td>1.38</td>\n",
              "      <td>5.47</td>\n",
              "      <td>39.14</td>\n",
              "      <td>26.13</td>\n",
              "    </tr>\n",
              "    <tr>\n",
              "      <th>23</th>\n",
              "      <td>1.89</td>\n",
              "      <td>1.71</td>\n",
              "      <td>10.83</td>\n",
              "      <td>0.00</td>\n",
              "      <td>5.50</td>\n",
              "      <td>39.26</td>\n",
              "      <td>24.26</td>\n",
              "    </tr>\n",
              "    <tr>\n",
              "      <th>24</th>\n",
              "      <td>0.00</td>\n",
              "      <td>1.50</td>\n",
              "      <td>11.78</td>\n",
              "      <td>0.45</td>\n",
              "      <td>4.88</td>\n",
              "      <td>46.38</td>\n",
              "      <td>0.00</td>\n",
              "    </tr>\n",
              "  </tbody>\n",
              "</table>\n",
              "</div>"
            ],
            "text/plain": [
              "    hurdles  highjump   shot  run200m  longjump  javelin  run800m\n",
              "0      3.73      1.86  15.80     4.05      7.27    45.66    34.92\n",
              "1      3.57      1.80  16.23     2.96      6.71    42.56    37.31\n",
              "2      3.22      1.83  14.20     3.51      6.68    44.54    39.23\n",
              "3      2.81      1.80  15.23     2.69      6.25    42.78    31.19\n",
              "4      2.91      1.74  14.76     2.68      6.32    47.46    35.53\n",
              "5      2.67      1.83  13.50     1.96      6.33    42.82    37.64\n",
              "6      3.04      1.80  12.88     3.02      6.37    40.28    30.89\n",
              "7      2.87      1.80  14.13     2.13      6.47    38.00    29.78\n",
              "8      2.79      1.83  14.28     1.75      6.11    42.20    27.38\n",
              "9      3.17      1.77  12.62     3.02      6.28    39.06    28.69\n",
              "10     2.67      1.86  13.01     1.58      6.34    37.86    31.94\n",
              "11     3.18      1.80  12.88     3.02      6.37    40.28    30.89\n",
              "12     2.57      1.86  11.58     1.74      6.05    47.50    28.50\n",
              "13     2.71      1.83  13.16     1.83      6.12    44.58    20.61\n",
              "14     2.63      1.80  12.32     2.00      6.08    45.44    26.37\n",
              "15     2.49      1.86  14.21     1.61      6.40    38.60    16.76\n",
              "16     2.95      1.80  12.75     1.14      6.34    35.76    24.95\n",
              "17     2.35      1.83  12.69     1.78      6.13    44.34    17.00\n",
              "18     2.03      1.71  12.68     1.69      6.10    37.76    25.41\n",
              "19     2.38      1.77  11.81     1.00      5.99    35.68    29.53\n",
              "20     2.11      1.77  11.66     0.92      5.75    39.48    30.08\n",
              "21     2.19      1.71  12.95     1.11      5.50    39.64    19.41\n",
              "22     1.57      1.68  10.00     1.38      5.47    39.14    26.13\n",
              "23     1.89      1.71  10.83     0.00      5.50    39.26    24.26\n",
              "24     0.00      1.50  11.78     0.45      4.88    46.38     0.00"
            ]
          },
          "metadata": {
            "tags": []
          },
          "execution_count": 15
        }
      ]
    },
    {
      "cell_type": "code",
      "metadata": {
        "id": "TklpO3R8bqci",
        "colab_type": "code",
        "colab": {}
      },
      "source": [
        "hep_data = hep[hep_cols]"
      ],
      "execution_count": 0,
      "outputs": []
    },
    {
      "cell_type": "code",
      "metadata": {
        "id": "tJRlECsBbqW6",
        "colab_type": "code",
        "colab": {
          "base_uri": "https://localhost:8080/",
          "height": 35
        },
        "outputId": "a56d5eae-96c5-4c37-af0d-5f7f80e57461"
      },
      "source": [
        "pca = PCA(n_components=2)\n",
        "pca_result = pca.fit(hep_data)\n",
        "print(pca_result.explained_variance_)"
      ],
      "execution_count": 18,
      "outputs": [
        {
          "output_type": "stream",
          "text": [
            "[69.96725328 12.89510269]\n"
          ],
          "name": "stdout"
        }
      ]
    },
    {
      "cell_type": "code",
      "metadata": {
        "id": "KhVJpgXxbqQy",
        "colab_type": "code",
        "colab": {
          "base_uri": "https://localhost:8080/",
          "height": 35
        },
        "outputId": "4d186912-73d3-4465-dd83-dd81058a1c1e"
      },
      "source": [
        "print(pca_result.explained_variance_ratio_)"
      ],
      "execution_count": 19,
      "outputs": [
        {
          "output_type": "stream",
          "text": [
            "[0.82069962 0.15125656]\n"
          ],
          "name": "stdout"
        }
      ]
    },
    {
      "cell_type": "code",
      "metadata": {
        "id": "Pof8RhaPcaIV",
        "colab_type": "code",
        "colab": {
          "base_uri": "https://localhost:8080/",
          "height": 301
        },
        "outputId": "a7a97be7-135c-44b4-deed-9535317c7d57"
      },
      "source": [
        "plt.scatter(PC[:,0],PC[:,1])\n",
        "plt.xlabel(\"PC1(var=%.2f)\" % pca.explained_variance_ratio_[0])\n",
        "plt.ylabel(\"PC2(var=%.2f)\" % pca.explained_variance_ratio_[1])"
      ],
      "execution_count": 20,
      "outputs": [
        {
          "output_type": "execute_result",
          "data": {
            "text/plain": [
              "Text(0, 0.5, 'PC2(var=0.15)')"
            ]
          },
          "metadata": {
            "tags": []
          },
          "execution_count": 20
        },
        {
          "output_type": "display_data",
          "data": {
            "image/png": "[encoded data removed]",
            "text/plain": [
              "<Figure size 432x288 with 1 Axes>"
            ]
          },
          "metadata": {
            "tags": []
          }
        }
      ]
    },
    {
      "cell_type": "code",
      "metadata": {
        "id": "tY26YY5Ocr6P",
        "colab_type": "code",
        "colab": {}
      },
      "source": [
        ""
      ],
      "execution_count": 0,
      "outputs": []
    }
  ]
}